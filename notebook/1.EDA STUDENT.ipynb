{
 "cells": [
  {
   "cell_type": "code",
   "execution_count": null,
   "id": "5c3f5021",
   "metadata": {},
   "outputs": [],
   "source": [
    "# Import necessary libraries\n",
    "import pandas as pd # type: ignore\n",
    "\n",
    "# Define the file path\n",
    "file_path = \"E:\\\\Github Repository\\\\notebook\\\\StudentsPerformance.csv\"\n",
    "\n",
    "# Load the CSV file into a DataFrame\n",
    "try:\n",
    "    data = pd.read_csv(file_path)\n",
    "    print(\"File loaded successfully!\")\n",
    "except FileNotFoundError:\n",
    "    print(f\"Error: File not found at {file_path}\")\n",
    "    exit()\n",
    "\n",
    "# Display the first few rows of the dataset\n",
    "print(\"First 5 rows of the dataset:\")\n",
    "print(data.head())"
   ]
  },
  {
   "cell_type": "code",
   "execution_count": null,
   "id": "3a7f6ae7",
   "metadata": {},
   "outputs": [],
   "source": [
    "print(data.head()) # type: ignore"
   ]
  },
  {
   "cell_type": "code",
   "execution_count": null,
   "id": "0b493f98",
   "metadata": {},
   "outputs": [],
   "source": []
  }
 ],
 "metadata": {
  "kernelspec": {
   "display_name": "Python 3",
   "language": "python",
   "name": "python3"
  },
  "language_info": {
   "name": "python",
   "version": "3.8.0"
  }
 },
 "nbformat": 4,
 "nbformat_minor": 5
}
